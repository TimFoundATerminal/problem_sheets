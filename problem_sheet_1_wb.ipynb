{
 "cells": [
  {
   "cell_type": "markdown",
   "metadata": {},
   "source": [
    "## Question 1\n",
    "\n",
    "Shift Cipher: WKHPDJLFZRUGVDUHVTXHDPLVKRVVLIUDJH"
   ]
  },
  {
   "cell_type": "code",
   "execution_count": 3,
   "metadata": {},
   "outputs": [],
   "source": [
    "ciphertext_1 = \"WKHPDJLFZRUGVDUHVTXHDPLVKRVVLIUDJH\""
   ]
  },
  {
   "cell_type": "code",
   "execution_count": 6,
   "metadata": {},
   "outputs": [
    {
     "name": "stdout",
     "output_type": "stream",
     "text": [
      "{'W': 1, 'K': 2, 'H': 4, 'P': 2, 'D': 4, 'J': 2, 'L': 3, 'F': 1, 'Z': 1, 'R': 2, 'U': 3, 'G': 1, 'V': 5, 'T': 1, 'X': 1, 'I': 1}\n"
     ]
    }
   ],
   "source": [
    "# perform some frequency analysis on the text\n",
    "char_freq = {}\n",
    "for c in ciphertext_1:\n",
    "    char_freq[c] = char_freq.get(c, 0) + 1\n",
    "\n",
    "# sort the characters by frequency\n",
    "# sorted_chars = sorted(char_freq, key=char_freq.get, reverse=True)\n",
    "print(char_freq)\n",
    "\n"
   ]
  },
  {
   "cell_type": "code",
   "execution_count": 4,
   "metadata": {},
   "outputs": [
    {
     "name": "stdout",
     "output_type": "stream",
     "text": [
      "Shift 0: WKHPDJLFZRUGVDUHVTXHDPLVKRVVLIUDJH\n",
      "Shift 1: VJGOCIKEYQTFUCTGUSWGCOKUJQUUKHTCIG\n",
      "Shift 2: UIFNBHJDXPSETBSFTRVFBNJTIPTTJGSBHF\n",
      "Shift 3: THEMAGICWORDSARESQUEAMISHOSSIFRAGE\n",
      "Shift 4: SGDLZFHBVNQCRZQDRPTDZLHRGNRRHEQZFD\n",
      "Shift 5: RFCKYEGAUMPBQYPCQOSCYKGQFMQQGDPYEC\n",
      "Shift 6: QEBJXDFZTLOAPXOBPNRBXJFPELPPFCOXDB\n",
      "Shift 7: PDAIWCEYSKNZOWNAOMQAWIEODKOOEBNWCA\n",
      "Shift 8: OCZHVBDXRJMYNVMZNLPZVHDNCJNNDAMVBZ\n",
      "Shift 9: NBYGUACWQILXMULYMKOYUGCMBIMMCZLUAY\n",
      "Shift 10: MAXFTZBVPHKWLTKXLJNXTFBLAHLLBYKTZX\n",
      "Shift 11: LZWESYAUOGJVKSJWKIMWSEAKZGKKAXJSYW\n",
      "Shift 12: KYVDRXZTNFIUJRIVJHLVRDZJYFJJZWIRXV\n",
      "Shift 13: JXUCQWYSMEHTIQHUIGKUQCYIXEIIYVHQWU\n",
      "Shift 14: IWTBPVXRLDGSHPGTHFJTPBXHWDHHXUGPVT\n",
      "Shift 15: HVSAOUWQKCFRGOFSGEISOAWGVCGGWTFOUS\n",
      "Shift 16: GURZNTVPJBEQFNERFDHRNZVFUBFFVSENTR\n",
      "Shift 17: FTQYMSUOIADPEMDQECGQMYUETAEEURDMSQ\n",
      "Shift 18: ESPXLRTNHZCODLCPDBFPLXTDSZDDTQCLRP\n",
      "Shift 19: DROWKQSMGYBNCKBOCAEOKWSCRYCCSPBKQO\n",
      "Shift 20: CQNVJPRLFXAMBJANBZDNJVRBQXBBROAJPN\n",
      "Shift 21: BPMUIOQKEWZLAIZMAYCMIUQAPWAAQNZIOM\n",
      "Shift 22: AOLTHNPJDVYKZHYLZXBLHTPZOVZZPMYHNL\n",
      "Shift 23: ZNKSGMOICUXJYGXKYWAKGSOYNUYYOLXGMK\n",
      "Shift 24: YMJRFLNHBTWIXFWJXVZJFRNXMTXXNKWFLJ\n",
      "Shift 25: XLIQEKMGASVHWEVIWUYIEQMWLSWWMJVEKI\n"
     ]
    }
   ],
   "source": [
    "# Loop through 26 permutations of a shift cipher\n",
    "# and print the decrypted text\n",
    "\n",
    "# create a function that maps a character to its index in the alphabet\n",
    "def char_to_index(c):\n",
    "    return ord(c) - ord('A')\n",
    "\n",
    "def index_to_char(i):\n",
    "    return chr(i + ord('A'))\n",
    "\n",
    "for shift in range(26):\n",
    "    plaintext = \"\"\n",
    "    for c in ciphertext_1:\n",
    "        index = char_to_index(c)\n",
    "        new_index = (index - shift + 26) % 26\n",
    "        plaintext += index_to_char(new_index)\n",
    "    print(\"Shift {}: {}\".format(shift, plaintext))"
   ]
  },
  {
   "cell_type": "markdown",
   "metadata": {},
   "source": [
    "Cipher Text 1\n",
    "- Solution: THEMAGICWORDSARESQUEAMISHOSSIFRAGE\n",
    "- Key: 3\n",
    "\n",
    "The magic words are squeamish ossifrage\n",
    "\n",
    "## Question 2\n",
    "\n",
    "Permutation Cipher: EMRMESEBREITCRUACYSINIHIANLTOSSEYSAEACRUEWSHTESEKANKTIL"
   ]
  }
 ],
 "metadata": {
  "kernelspec": {
   "display_name": "Python 3",
   "language": "python",
   "name": "python3"
  },
  "language_info": {
   "codemirror_mode": {
    "name": "ipython",
    "version": 3
   },
   "file_extension": ".py",
   "mimetype": "text/x-python",
   "name": "python",
   "nbconvert_exporter": "python",
   "pygments_lexer": "ipython3",
   "version": "3.11.2"
  }
 },
 "nbformat": 4,
 "nbformat_minor": 2
}
